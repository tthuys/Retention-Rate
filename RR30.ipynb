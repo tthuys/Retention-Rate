{
 "cells": [
  {
   "cell_type": "markdown",
   "metadata": {},
   "source": [
    "# Thư viện"
   ]
  },
  {
   "cell_type": "code",
   "execution_count": 1,
   "metadata": {},
   "outputs": [],
   "source": [
    "import pandas as pd\n",
    "\n",
    "import mysql.connector\n",
    "from datetime import datetime, timedelta\n"
   ]
  },
  {
   "cell_type": "markdown",
   "metadata": {},
   "source": [
    "# Kết nối đến MySQL"
   ]
  },
  {
   "cell_type": "code",
   "execution_count": 2,
   "metadata": {},
   "outputs": [],
   "source": [
    "conn = mysql.connector.connect(host='10.90.21.39', port='3339', username='thuypt8', password='dmJ2sP9xTTU62sZq', database='um')\n",
    "my_cursor = conn.cursor()\n",
    "query = \"SELECT * FROM loyalty_active_user LIMIT 2000000\"\n",
    "my_cursor.execute(query)\n",
    "rows = my_cursor.fetchall()\n",
    "columns = [i[0] for i in my_cursor.description]\n",
    "dataSQL = pd.DataFrame(rows, columns=columns)"
   ]
  },
  {
   "cell_type": "code",
   "execution_count": 3,
   "metadata": {},
   "outputs": [
    {
     "name": "stdout",
     "output_type": "stream",
     "text": [
      "Connection succesfully created!\n"
     ]
    }
   ],
   "source": [
    "conn.commit()\n",
    "conn.close()\n",
    "\n",
    "print(\"Connection succesfully created!\")"
   ]
  },
  {
   "cell_type": "code",
   "execution_count": 4,
   "metadata": {},
   "outputs": [
    {
     "name": "stdout",
     "output_type": "stream",
     "text": [
      "        log_month    log_date  max_block_number      max_block_time  \\\n",
      "0         2023-08  2023-08-15             33531 2023-08-15 23:59:59   \n",
      "1         2023-08  2023-08-15             33531 2023-08-15 23:59:59   \n",
      "2         2023-08  2023-08-15             33531 2023-08-15 23:59:59   \n",
      "3         2023-08  2023-08-15             33531 2023-08-15 23:59:59   \n",
      "4         2023-08  2023-08-15             33531 2023-08-15 23:59:59   \n",
      "...           ...         ...               ...                 ...   \n",
      "1999995   2024-01  2024-01-13           4797956 2024-01-13 23:59:56   \n",
      "1999996   2024-01  2024-01-13           4797956 2024-01-13 23:59:56   \n",
      "1999997   2024-01  2024-01-13           4797956 2024-01-13 23:59:56   \n",
      "1999998   2024-01  2024-01-13           4797956 2024-01-13 23:59:56   \n",
      "1999999   2024-01  2024-01-13           4797956 2024-01-13 23:59:56   \n",
      "\n",
      "                      loyalty_uid is_ggid  earn_1  earn_2  earn_3  burn_1  \\\n",
      "0        0658_2399887766019178496     UID       0       0    1000       0   \n",
      "1        0610_2492827418760183808     UID      48       0    6268       0   \n",
      "2        0658_2444089021234020352     UID       0       0     400       0   \n",
      "3        0610_2449485209727467520     UID       0       0   20482       0   \n",
      "4                3ec2898adc8a4981    GGID   14174   30000       0   14000   \n",
      "...                           ...     ...     ...     ...     ...     ...   \n",
      "1999995          319461b4c9863981    GGID    1050       0       0   20000   \n",
      "1999996          3180b240599b2981    GGID       0    5000       0       0   \n",
      "1999997          3e7afc7c4436d981    GGID    2895       0       0    7000   \n",
      "1999998  0221_1931691232347684864     UID       0       0       0     241   \n",
      "1999999          31b06b961ba96981    GGID    2955       0       0    3000   \n",
      "\n",
      "         burn_2  burn_3  total_trans  balance_total  balance_point1  \\\n",
      "0             0       0            1           1000               0   \n",
      "1             0       0           19           6316              48   \n",
      "2             0       0            2            400               0   \n",
      "3             0       0           44          20982               0   \n",
      "4          5000       0            8          25174             174   \n",
      "...         ...     ...          ...            ...             ...   \n",
      "1999995       0       0            3           4050            4050   \n",
      "1999996       0       0            1           5000               0   \n",
      "1999997       0       0            2           3317            3317   \n",
      "1999998       0       0            1              0               0   \n",
      "1999999       0       0            2           3150            3150   \n",
      "\n",
      "         balance_point2  balance_point3        updated_time  \n",
      "0                     0            1000 2023-11-14 10:03:18  \n",
      "1                     0            6268 2023-11-14 10:03:18  \n",
      "2                     0             400 2023-11-14 10:03:18  \n",
      "3                     0           20982 2023-11-14 10:03:18  \n",
      "4                 25000               0 2023-11-14 10:03:18  \n",
      "...                 ...             ...                 ...  \n",
      "1999995               0               0 2024-01-23 10:52:07  \n",
      "1999996            5000               0 2024-01-23 10:52:07  \n",
      "1999997               0               0 2024-01-23 10:52:07  \n",
      "1999998               0               0 2024-01-23 10:52:07  \n",
      "1999999               0               0 2024-01-23 10:52:07  \n",
      "\n",
      "[2000000 rows x 18 columns]\n"
     ]
    }
   ],
   "source": [
    "df = dataSQL\n",
    "\n",
    "print(df)"
   ]
  },
  {
   "cell_type": "markdown",
   "metadata": {},
   "source": [
    "# Tính theo log_month"
   ]
  },
  {
   "cell_type": "code",
   "execution_count": 5,
   "metadata": {},
   "outputs": [
    {
     "name": "stdout",
     "output_type": "stream",
     "text": [
      "                     loyalty_uid login_month\n",
      "0       0122_1028121515778262387     2023-11\n",
      "1       0122_1028121515778262387     2023-12\n",
      "2        0122_106134295963268942     2023-11\n",
      "3        0122_106134295963268942     2023-12\n",
      "4       0122_1069468179007035104     2023-11\n",
      "...                          ...         ...\n",
      "869403          3f52d0af8245e981     2023-08\n",
      "869404          3f5385492785e981     2023-08\n",
      "869405          3f7639b24f6fb981     2023-10\n",
      "869406          3f7725df5278e981     2023-08\n",
      "869407          3f7725df5278e981     2023-10\n",
      "\n",
      "[869408 rows x 2 columns]\n"
     ]
    }
   ],
   "source": [
    "df1 = df.groupby(['loyalty_uid','log_month']).size().reset_index()\n",
    "\n",
    "df1 = df1.rename(columns={'log_month': 'login_month'}).drop(0, axis=1)\n",
    "print(df1)"
   ]
  },
  {
   "cell_type": "code",
   "execution_count": 6,
   "metadata": {},
   "outputs": [
    {
     "name": "stdout",
     "output_type": "stream",
     "text": [
      "                         first_month\n",
      "loyalty_uid                         \n",
      "0122_1028121515778262387     2023-11\n",
      "0122_106134295963268942      2023-11\n",
      "0122_1069468179007035104     2023-11\n",
      "0122_1070033982756837614     2023-11\n",
      "0122_1076506494651560391     2023-11\n",
      "...                              ...\n",
      "3f442d7ba7c6f981             2023-08\n",
      "3f52d0af8245e981             2023-08\n",
      "3f5385492785e981             2023-08\n",
      "3f7639b24f6fb981             2023-10\n",
      "3f7725df5278e981             2023-08\n",
      "\n",
      "[556798 rows x 1 columns]\n"
     ]
    }
   ],
   "source": [
    "df2 = df.groupby('loyalty_uid').agg({\n",
    "    'log_month': 'min'\n",
    "})\n",
    "df2 = df2.rename(columns={'log_month': 'first_month'})\n",
    "print(df2)"
   ]
  },
  {
   "cell_type": "code",
   "execution_count": 7,
   "metadata": {},
   "outputs": [
    {
     "name": "stdout",
     "output_type": "stream",
     "text": [
      "                     loyalty_uid login_month first_month\n",
      "0       0122_1028121515778262387     2023-11     2023-11\n",
      "1       0122_1028121515778262387     2023-12     2023-11\n",
      "2        0122_106134295963268942     2023-11     2023-11\n",
      "3        0122_106134295963268942     2023-12     2023-11\n",
      "4       0122_1069468179007035104     2023-11     2023-11\n",
      "...                          ...         ...         ...\n",
      "869403          3f52d0af8245e981     2023-08     2023-08\n",
      "869404          3f5385492785e981     2023-08     2023-08\n",
      "869405          3f7639b24f6fb981     2023-10     2023-10\n",
      "869406          3f7725df5278e981     2023-08     2023-08\n",
      "869407          3f7725df5278e981     2023-10     2023-08\n",
      "\n",
      "[869408 rows x 3 columns]\n"
     ]
    }
   ],
   "source": [
    "merged_df = pd.merge(df1, df2, how='inner',on='loyalty_uid')\n",
    "\n",
    "print(merged_df)"
   ]
  },
  {
   "cell_type": "code",
   "execution_count": 8,
   "metadata": {},
   "outputs": [
    {
     "name": "stdout",
     "output_type": "stream",
     "text": [
      "                     loyalty_uid  login_month  first_month  month_number\n",
      "0       0122_1028121515778262387           11           11             0\n",
      "1       0122_1028121515778262387           12           11             1\n",
      "2        0122_106134295963268942           11           11             0\n",
      "3        0122_106134295963268942           12           11             1\n",
      "4       0122_1069468179007035104           11           11             0\n",
      "...                          ...          ...          ...           ...\n",
      "869403          3f52d0af8245e981            8            8             0\n",
      "869404          3f5385492785e981            8            8             0\n",
      "869405          3f7639b24f6fb981           10           10             0\n",
      "869406          3f7725df5278e981            8            8             0\n",
      "869407          3f7725df5278e981           10            8             2\n",
      "\n",
      "[869408 rows x 4 columns]\n"
     ]
    }
   ],
   "source": [
    "new_df = merged_df\n",
    "\n",
    "new_df['login_month'] = pd.to_datetime(new_df['login_month'])\n",
    "new_df['login_month'] = new_df['login_month'].dt.month   \n",
    "\n",
    "\n",
    "\n",
    "new_df['first_month'] = pd.to_datetime(new_df['first_month'])\n",
    "new_df['first_month'] = new_df['first_month'].dt.month\n",
    "         \n",
    "new_df['month_number'] = new_df['login_month'] - new_df['first_month']\n",
    "print(new_df)"
   ]
  },
  {
   "cell_type": "code",
   "execution_count": 9,
   "metadata": {},
   "outputs": [
    {
     "name": "stdout",
     "output_type": "stream",
     "text": [
      "Retention Rate for Month 1: 29.081282619549636\n",
      "Retention Rate for Month 2: 12.251480788364901\n",
      "Retention Rate for Month 3: 4.136149914331589\n",
      "Retention Rate for Month 4: 1.1616421035995101\n"
     ]
    }
   ],
   "source": [
    "\n",
    "def calculate_retention_rate(df):\n",
    "    retention_rate = {}\n",
    "    for month_number in range(1, df['month_number'].max() + 1):\n",
    "        current_month = set(df[df['month_number'] == month_number]['loyalty_uid'])\n",
    "        first_month_users = set(df[df['month_number'] == 0]['loyalty_uid'])\n",
    "        retention_rate[month_number] = len(current_month.intersection(first_month_users)) / len(first_month_users) * 100\n",
    "    return retention_rate\n",
    "\n",
    "retention_rate_result = calculate_retention_rate(new_df)\n",
    "\n",
    "# In ra kết quả\n",
    "for month_number, rate in retention_rate_result.items():\n",
    "    print(f'Retention Rate for Month {month_number}: {rate}')\n"
   ]
  },
  {
   "cell_type": "markdown",
   "metadata": {},
   "source": [
    "# Tính theo log_date"
   ]
  },
  {
   "cell_type": "code",
   "execution_count": 10,
   "metadata": {},
   "outputs": [
    {
     "name": "stdout",
     "output_type": "stream",
     "text": [
      "                      loyalty_uid  login_date\n",
      "0        0122_1028121515778262387  2023-11-20\n",
      "1        0122_1028121515778262387  2023-12-28\n",
      "2         0122_106134295963268942  2023-11-20\n",
      "3         0122_106134295963268942  2023-12-28\n",
      "4        0122_1069468179007035104  2023-11-20\n",
      "...                           ...         ...\n",
      "1999995          3f5385492785e981  2023-08-15\n",
      "1999996          3f7639b24f6fb981  2023-10-11\n",
      "1999997          3f7725df5278e981  2023-08-30\n",
      "1999998          3f7725df5278e981  2023-08-31\n",
      "1999999          3f7725df5278e981  2023-10-27\n",
      "\n",
      "[2000000 rows x 2 columns]\n",
      "                          first_date\n",
      "loyalty_uid                         \n",
      "0122_1028121515778262387  2023-11-20\n",
      "0122_106134295963268942   2023-11-20\n",
      "0122_1069468179007035104  2023-11-20\n",
      "0122_1070033982756837614  2023-11-20\n",
      "0122_1076506494651560391  2023-11-20\n",
      "...                              ...\n",
      "3f442d7ba7c6f981          2023-08-29\n",
      "3f52d0af8245e981          2023-08-29\n",
      "3f5385492785e981          2023-08-15\n",
      "3f7639b24f6fb981          2023-10-11\n",
      "3f7725df5278e981          2023-08-30\n",
      "\n",
      "[556798 rows x 1 columns]\n"
     ]
    }
   ],
   "source": [
    "new_df1 = df.groupby(['loyalty_uid','log_date']).size().reset_index()\n",
    "\n",
    "new_df1 = new_df1.rename(columns={'log_date': 'login_date'}).drop(0, axis=1)\n",
    "print(new_df1)\n",
    "\n",
    "new_df2 = df.groupby('loyalty_uid').agg({\n",
    "    'log_date': 'min'\n",
    "})\n",
    "new_df2 = new_df2.rename(columns={'log_date': 'first_date'})\n",
    "print(new_df2)"
   ]
  },
  {
   "cell_type": "code",
   "execution_count": 11,
   "metadata": {},
   "outputs": [
    {
     "name": "stdout",
     "output_type": "stream",
     "text": [
      "                      loyalty_uid  first_date  login_date\n",
      "0        0122_1028121515778262387  2023-11-20  2023-11-20\n",
      "1        0122_1028121515778262387  2023-11-20  2023-12-28\n",
      "2         0122_106134295963268942  2023-11-20  2023-11-20\n",
      "3         0122_106134295963268942  2023-11-20  2023-12-28\n",
      "4        0122_1069468179007035104  2023-11-20  2023-11-20\n",
      "...                           ...         ...         ...\n",
      "1999995          3f5385492785e981  2023-08-15  2023-08-15\n",
      "1999996          3f7639b24f6fb981  2023-10-11  2023-10-11\n",
      "1999997          3f7725df5278e981  2023-08-30  2023-08-30\n",
      "1999998          3f7725df5278e981  2023-08-30  2023-08-31\n",
      "1999999          3f7725df5278e981  2023-08-30  2023-10-27\n",
      "\n",
      "[2000000 rows x 3 columns]\n"
     ]
    }
   ],
   "source": [
    "new_merged_df = pd.merge(new_df2, new_df1, how='inner',on='loyalty_uid')\n",
    "\n",
    "print(new_merged_df)"
   ]
  },
  {
   "cell_type": "code",
   "execution_count": 12,
   "metadata": {},
   "outputs": [
    {
     "name": "stdout",
     "output_type": "stream",
     "text": [
      "                      loyalty_uid first_date login_date day_number\n",
      "0        0122_1028121515778262387 2023-11-20 2023-11-20     0 days\n",
      "1        0122_1028121515778262387 2023-11-20 2023-12-28    38 days\n",
      "2         0122_106134295963268942 2023-11-20 2023-11-20     0 days\n",
      "3         0122_106134295963268942 2023-11-20 2023-12-28    38 days\n",
      "4        0122_1069468179007035104 2023-11-20 2023-11-20     0 days\n",
      "...                           ...        ...        ...        ...\n",
      "1999995          3f5385492785e981 2023-08-15 2023-08-15     0 days\n",
      "1999996          3f7639b24f6fb981 2023-10-11 2023-10-11     0 days\n",
      "1999997          3f7725df5278e981 2023-08-30 2023-08-30     0 days\n",
      "1999998          3f7725df5278e981 2023-08-30 2023-08-31     1 days\n",
      "1999999          3f7725df5278e981 2023-08-30 2023-10-27    58 days\n",
      "\n",
      "[2000000 rows x 4 columns]\n"
     ]
    }
   ],
   "source": [
    "\n",
    "new_merged_df['login_date'] = pd.to_datetime(new_merged_df['login_date'])\n",
    "new_merged_df['first_date'] = pd.to_datetime(new_merged_df['first_date'])\n",
    "new_merged_df['day_number'] = (new_merged_df['login_date'] - new_merged_df['first_date'])\n",
    "\n",
    "print(new_merged_df)"
   ]
  },
  {
   "cell_type": "code",
   "execution_count": 13,
   "metadata": {},
   "outputs": [
    {
     "name": "stdout",
     "output_type": "stream",
     "text": [
      "      first_date day_number     0\n",
      "0     2023-08-14     0 days  3503\n",
      "1     2023-08-14     1 days  1269\n",
      "2     2023-08-14     2 days  1005\n",
      "3     2023-08-14     3 days   916\n",
      "4     2023-08-14     4 days   885\n",
      "...          ...        ...   ...\n",
      "11836 2024-01-12     1 days    71\n",
      "11837 2024-01-12     2 days    17\n",
      "11838 2024-01-13     0 days  1401\n",
      "11839 2024-01-13     1 days    74\n",
      "11840 2024-01-14     0 days   457\n",
      "\n",
      "[11841 rows x 3 columns]\n"
     ]
    }
   ],
   "source": [
    "data_day = new_merged_df.groupby(['first_date', 'day_number']).size()\n",
    "data_day = data_day.reset_index()\n",
    "print(data_day)"
   ]
  },
  {
   "cell_type": "code",
   "execution_count": 14,
   "metadata": {},
   "outputs": [
    {
     "name": "stdout",
     "output_type": "stream",
     "text": [
      "                      loyalty_uid first_date login_date day_number\n",
      "18612    0221_1211463329378246656 2023-10-20 2023-10-20     0 days\n",
      "18811    0221_1220423089611907072 2023-10-20 2023-10-20     0 days\n",
      "18812    0221_1220423089611907072 2023-10-20 2023-10-30    10 days\n",
      "21402    0221_1428580904598544384 2023-10-20 2023-10-20     0 days\n",
      "21403    0221_1428580904598544384 2023-10-20 2023-11-02    13 days\n",
      "...                           ...        ...        ...        ...\n",
      "1957332          3e7eda2f87f52981 2023-10-20 2023-11-30    41 days\n",
      "1957333          3e7eda2f87f52981 2023-10-20 2023-12-12    53 days\n",
      "1957334          3e7eda2f87f52981 2023-10-20 2023-12-25    66 days\n",
      "1957335          3e7eda2f87f52981 2023-10-20 2024-01-01    73 days\n",
      "1986316          3ec06e93b206d981 2023-10-20 2023-10-20     0 days\n",
      "\n",
      "[2934 rows x 4 columns]\n"
     ]
    }
   ],
   "source": [
    "# lấy data với first date là 20-10-2023\n",
    "\n",
    "data = new_merged_df[new_merged_df['first_date'] == '2023-10-20']\n",
    "print(data)\n",
    "data.to_clipboard()"
   ]
  },
  {
   "cell_type": "code",
   "execution_count": 15,
   "metadata": {},
   "outputs": [
    {
     "name": "stdout",
     "output_type": "stream",
     "text": [
      "day_number\n",
      "0 days      556798\n",
      "1 days       71971\n",
      "2 days       58717\n",
      "3 days       47268\n",
      "4 days       40950\n",
      "             ...  \n",
      "148 days        44\n",
      "149 days        62\n",
      "150 days        34\n",
      "151 days        15\n",
      "152 days         5\n",
      "Length: 153, dtype: int64\n"
     ]
    }
   ],
   "source": [
    "data_day = new_merged_df.groupby('day_number').size()\n",
    "\n",
    "print(data_day)"
   ]
  },
  {
   "cell_type": "code",
   "execution_count": 16,
   "metadata": {},
   "outputs": [],
   "source": [
    "def calculate_retention_rate_date(df, datetime_str):\n",
    "    datetime_value = pd.to_datetime(datetime_str)\n",
    "    new_merged_df['login_date'] = pd.to_datetime(new_merged_df['login_date'])\n",
    "    new_merged_df['first_date'] = pd.to_datetime(new_merged_df['first_date'])\n",
    "    retention_rate = {}\n",
    "    for date_number in range(0, 31):\n",
    "        end_of_date = datetime_value + timedelta(days=date_number)\n",
    "        # print(datetime_value, end_of_month)\n",
    "\n",
    "        new_users = set(df[(df['login_date'] == end_of_date)]['loyalty_uid'])\n",
    "\n",
    "        first_date_users = set(df[df['first_date'] == datetime_value]['loyalty_uid'])\n",
    "\n",
    "        retention_rate[date_number] = len(new_users.intersection(first_date_users)) / len(first_date_users) * 100\n",
    "    return retention_rate\n",
    "\n",
    "\n"
   ]
  },
  {
   "cell_type": "code",
   "execution_count": 17,
   "metadata": {},
   "outputs": [
    {
     "name": "stdout",
     "output_type": "stream",
     "text": [
      "Date: 2023-10-11\n",
      "Retention Rate for day 0: 100.0\n",
      "Retention Rate for day 1: 3.3131457071606696\n",
      "Retention Rate for day 2: 2.1375133594584965\n",
      "Retention Rate for day 3: 4.061275382971143\n",
      "Retention Rate for day 4: 1.9237620235126471\n",
      "Retention Rate for day 5: 1.2468827930174564\n",
      "Retention Rate for day 6: 0.46312789454934095\n",
      "Retention Rate for day 7: 0.8193801211257571\n",
      "Retention Rate for day 8: 3.0281439258995366\n",
      "Retention Rate for day 9: 1.7100106875667973\n",
      "Retention Rate for day 10: 1.2825080156750979\n",
      "Retention Rate for day 11: 0.8193801211257571\n",
      "Retention Rate for day 12: 1.5318845742785894\n",
      "Retention Rate for day 13: 1.4962593516209477\n",
      "Retention Rate for day 14: 1.2112575703598147\n",
      "Retention Rate for day 15: 1.816886355539722\n",
      "Retention Rate for day 16: 1.1756323477021733\n",
      "Retention Rate for day 17: 0.7481296758104738\n",
      "Retention Rate for day 18: 1.0687566797292483\n",
      "Retention Rate for day 19: 1.3181332383327395\n",
      "Retention Rate for day 20: 0.7837548984681154\n",
      "Retention Rate for day 21: 0.6768792304951906\n",
      "Retention Rate for day 22: 0.5700035625222657\n",
      "Retention Rate for day 23: 0.7837548984681154\n",
      "Retention Rate for day 24: 0.9618810117563236\n",
      "Retention Rate for day 25: 0.8550053437833987\n",
      "Retention Rate for day 26: 0.7837548984681154\n",
      "Retention Rate for day 27: 0.6768792304951906\n",
      "Retention Rate for day 28: 0.6056287851799074\n",
      "Retention Rate for day 29: 0.5343783398646241\n",
      "Retention Rate for day 30: 0.8906305664410403\n"
     ]
    }
   ],
   "source": [
    "date_input = input('Nhập ngày cần tính: ') # 2023-10-20\n",
    "retention_rate_result1 = calculate_retention_rate_date(new_merged_df, date_input)\n",
    "\n",
    "# In ra kết quả\n",
    "print(f'Date: {date_input}')\n",
    "for month_number, rate in retention_rate_result1.items():\n",
    "    print(f'Retention Rate for day {month_number}: {rate}')"
   ]
  }
 ],
 "metadata": {
  "kernelspec": {
   "display_name": "Python 3",
   "language": "python",
   "name": "python3"
  },
  "language_info": {
   "codemirror_mode": {
    "name": "ipython",
    "version": 3
   },
   "file_extension": ".py",
   "mimetype": "text/x-python",
   "name": "python",
   "nbconvert_exporter": "python",
   "pygments_lexer": "ipython3",
   "version": "3.12.0"
  }
 },
 "nbformat": 4,
 "nbformat_minor": 2
}
